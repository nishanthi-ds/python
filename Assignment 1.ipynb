{
 "cells": [
  {
   "cell_type": "code",
   "execution_count": 1,
   "id": "45a831f1-98e3-456e-9868-c3227d7706e8",
   "metadata": {},
   "outputs": [
    {
     "name": "stdout",
     "output_type": "stream",
     "text": [
      "Welcome to Assignment-1\n"
     ]
    }
   ],
   "source": [
    "print(\"Welcome to Assignment-1\")"
   ]
  },
  {
   "cell_type": "code",
   "execution_count": 3,
   "id": "9c3da125-5b2f-499e-9270-21ad9bb91d1b",
   "metadata": {},
   "outputs": [
    {
     "name": "stdin",
     "output_type": "stream",
     "text": [
      "Num1= 10\n",
      "Num2= 30\n"
     ]
    },
    {
     "name": "stdout",
     "output_type": "stream",
     "text": [
      "Add= 40\n"
     ]
    }
   ],
   "source": [
    "a= int(input(\"Num1=\"))\n",
    "b= int(input(\"Num2=\"))\n",
    "print(\"Add=\", a+b)"
   ]
  },
  {
   "cell_type": "code",
   "execution_count": 5,
   "id": "72c79343-71df-4623-8d70-9324ac4b34af",
   "metadata": {},
   "outputs": [
    {
     "name": "stdin",
     "output_type": "stream",
     "text": [
      "Enter the BMI Index: 34\n"
     ]
    },
    {
     "name": "stdout",
     "output_type": "stream",
     "text": [
      "Very Overweight\n"
     ]
    }
   ],
   "source": [
    "# BMI \n",
    "bmi_ind = float(input(\"Enter the BMI Index:\"))\n",
    "if bmi_ind < 18:\n",
    "    print(\"Underweight\")\n",
    "elif bmi_ind < 18.5:\n",
    "    print(\"Thin for Height\")\n",
    "elif bmi_ind < 24.9:\n",
    "    print(\"Healthy weight\")\n",
    "elif bmi_ind < 29.9:\n",
    "    print(\"Overweight\")\n",
    "else:\n",
    "    print(\"Very Overweight\")"
   ]
  }
 ],
 "metadata": {
  "kernelspec": {
   "display_name": "Python 3 (ipykernel)",
   "language": "python",
   "name": "python3"
  },
  "language_info": {
   "codemirror_mode": {
    "name": "ipython",
    "version": 3
   },
   "file_extension": ".py",
   "mimetype": "text/x-python",
   "name": "python",
   "nbconvert_exporter": "python",
   "pygments_lexer": "ipython3",
   "version": "3.12.7"
  }
 },
 "nbformat": 4,
 "nbformat_minor": 5
}

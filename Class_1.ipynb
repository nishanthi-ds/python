{
 "cells": [
  {
   "cell_type": "code",
   "execution_count": 9,
   "id": "043eb8a7-a6ef-4578-9aae-a80bc7f17c97",
   "metadata": {},
   "outputs": [],
   "source": [
    "# Create a class and function, and list out the items in the list \n",
    "class SubfieldsInAI:\n",
    "    def Subfields():\n",
    "        print(\"Sub-fields in AI are:\")\n",
    "        sub_field_list = ['Machine Learning', 'Neural Networks', 'Vision', 'Robotics', 'Speech Processing','Natural Language Processing']\n",
    "        for field in sub_field_list:\n",
    "            print(field)"
   ]
  },
  {
   "cell_type": "code",
   "execution_count": 10,
   "id": "2e2a86ea-3ae3-4631-96b0-dabd4f1264ca",
   "metadata": {},
   "outputs": [
    {
     "name": "stdout",
     "output_type": "stream",
     "text": [
      "Sub-fields in AI are:\n",
      "Machine Learning\n",
      "Neural Networks\n",
      "Vision\n",
      "Robotics\n",
      "Speech Processing\n",
      "Natural Language Processing\n"
     ]
    }
   ],
   "source": [
    "SubfieldsInAI.Subfields()"
   ]
  },
  {
   "cell_type": "code",
   "execution_count": 11,
   "id": "75d030cb-dc62-417d-9368-2c12eab1d21f",
   "metadata": {},
   "outputs": [],
   "source": [
    "# Create a function that checks whether the given number is Odd or Even \n",
    "class OddEven:\n",
    "    def OddEven():\n",
    "        num = int(input(\"Enter a number:\"))\n",
    "        if num % 2 == 0:\n",
    "            print(num ,\"is Even number\")\n",
    "        else:\n",
    "             print(num ,\"is Odd number\")  "
   ]
  },
  {
   "cell_type": "code",
   "execution_count": 12,
   "id": "c7c5d1cd-f1ab-4ea9-95b3-8e9004e5f483",
   "metadata": {},
   "outputs": [
    {
     "name": "stdin",
     "output_type": "stream",
     "text": [
      "Enter a number: 52452\n"
     ]
    },
    {
     "name": "stdout",
     "output_type": "stream",
     "text": [
      "52452 is Even number\n"
     ]
    }
   ],
   "source": [
    "OddEven.OddEven()"
   ]
  },
  {
   "cell_type": "code",
   "execution_count": 15,
   "id": "e91df5d6-0426-43fb-a8ec-09466ebb582f",
   "metadata": {},
   "outputs": [],
   "source": [
    "# Create a function that tells elegibility of marriage for male and female according to their age limit like 21 for male and 18 for female\n",
    "class ElegiblityForMarriage:\n",
    "    def Elegible():\n",
    "        gend = input(\"Your Gender:\")\n",
    "        age = int(input(\"Your Age:\"))\n",
    "        if gend == 'Male':\n",
    "            if age >= 21:\n",
    "                print(\"ELIGIBLE\")\n",
    "            else:\n",
    "                print(\"NOT ELIGIBLE\")\n",
    "        else:\n",
    "            if age >= 18:\n",
    "                print(\"ELIGIBLE\")\n",
    "            else:\n",
    "                print(\"NOT ELIGIBLE\")\n"
   ]
  },
  {
   "cell_type": "code",
   "execution_count": 16,
   "id": "76284431-6dbd-4279-adfb-0a8edd42a0ac",
   "metadata": {},
   "outputs": [
    {
     "name": "stdin",
     "output_type": "stream",
     "text": [
      "Your Gender: Male\n",
      "Your Age: 20\n"
     ]
    },
    {
     "name": "stdout",
     "output_type": "stream",
     "text": [
      "NOT ELIGIBLE\n"
     ]
    }
   ],
   "source": [
    "ElegiblityForMarriage.Elegible()"
   ]
  },
  {
   "cell_type": "code",
   "execution_count": 3,
   "id": "02cccd35-f97c-4224-8eeb-595261cbe440",
   "metadata": {},
   "outputs": [],
   "source": [
    "#  calculate the percentage of your 10th mark \n",
    "class FindPercent:\n",
    "    def percentage():\n",
    "        subject1 = int(input(\"Subject1=\"))\n",
    "        subject2 = int(input(\"Subject2=\"))\n",
    "        subject3 = int(input(\"Subject3=\"))\n",
    "        subject4 = int(input(\"Subject4=\"))\n",
    "        subject5 = int(input(\"Subject5=\"))\n",
    "        total = subject1 + subject2 + subject3 + subject4 + subject5\n",
    "        print(\"Total : \",total)\n",
    "        print(\"Percentage : \", (total / 500) * 100)\n"
   ]
  },
  {
   "cell_type": "code",
   "execution_count": 4,
   "id": "4e03cbaa-ed21-4e09-9567-7604bdb7d42b",
   "metadata": {},
   "outputs": [
    {
     "name": "stdin",
     "output_type": "stream",
     "text": [
      "Subject1= 98\n",
      "Subject2= 87\n",
      "Subject3= 95\n",
      "Subject4= 95\n",
      "Subject5= 93\n"
     ]
    },
    {
     "name": "stdout",
     "output_type": "stream",
     "text": [
      "Total :  468\n",
      "Percentage :  93.60000000000001\n"
     ]
    }
   ],
   "source": [
    "FindPercent.percentage() "
   ]
  },
  {
   "cell_type": "code",
   "execution_count": 19,
   "id": "cae8b9cd-7a23-4c4e-840a-5c70d48ed6b1",
   "metadata": {},
   "outputs": [],
   "source": [
    "#print area and perimeter of triangle using class and functions\n",
    "class triangle:\n",
    "    def triangle():\n",
    "        height = int(input(\"Height:\"))\n",
    "        breadth = int(input(\"Breadth:\"))\n",
    "        print(\"Area formula: (Height*Breadth)/2\")\n",
    "        print(\"Area of Triangle: \",(height*breadth)/2)\n",
    "        \n",
    "        height1 = int(input(\"Height1:\"))\n",
    "        height2 = int(input(\"Height2:\"))\n",
    "        breadth = int(input(\"Breadth:\"))\n",
    "        print(\"Perimeter formula: Height1+Height2+Breadth \")\n",
    "        print(\"Area of Triangle: \",height1+height2+breadth)\n",
    "        "
   ]
  },
  {
   "cell_type": "code",
   "execution_count": 20,
   "id": "ab6ec36e-8441-4036-a26c-395686a861f3",
   "metadata": {},
   "outputs": [
    {
     "name": "stdin",
     "output_type": "stream",
     "text": [
      "Height: 32\n",
      "Breadth: 34\n"
     ]
    },
    {
     "name": "stdout",
     "output_type": "stream",
     "text": [
      "Area formula: (Height*Breadth)/2\n",
      "Area of Triangle:  544.0\n"
     ]
    },
    {
     "name": "stdin",
     "output_type": "stream",
     "text": [
      "Height1: 2\n",
      "Height2: 4\n",
      "Breadth: 4\n"
     ]
    },
    {
     "name": "stdout",
     "output_type": "stream",
     "text": [
      "Perimeter formula: Height1+Height2+Breadth \n",
      "Area of Triangle:  10\n"
     ]
    }
   ],
   "source": [
    "triangle.triangle() "
   ]
  }
 ],
 "metadata": {
  "kernelspec": {
   "display_name": "Python 3 (ipykernel)",
   "language": "python",
   "name": "python3"
  },
  "language_info": {
   "codemirror_mode": {
    "name": "ipython",
    "version": 3
   },
   "file_extension": ".py",
   "mimetype": "text/x-python",
   "name": "python",
   "nbconvert_exporter": "python",
   "pygments_lexer": "ipython3",
   "version": "3.12.7"
  }
 },
 "nbformat": 4,
 "nbformat_minor": 5
}
